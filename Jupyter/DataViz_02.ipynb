{
 "cells": [
  {
   "cell_type": "markdown",
   "metadata": {},
   "source": [
    "[How to Load, Visualize, and Explore a Complex Multivariate Multistep Time Series Forecasting Dataset](https://machinelearningmastery.com/how-to-load-visualize-and-explore-a-complex-multivariate-multistep-time-series-forecasting-dataset/)\n",
    "===\n",
    "The EMC Data Science Global Hackathon dataset, or the `Air Quality Prediction` dataset for short, describes weather conditions at multiple sites and requires a prediction of air quality measurements over the subsequent three days.\n",
    "\n",
    "In this tutorial, you will discover and explore the Air Quality Prediction dataset that represents a challenging multivariate, multi-site, and multi-step time series forecasting problem.\n",
    "\n",
    "After completing this tutorial, you will know:\n",
    "- How to load and explore the chunk-structure of the dataset.\n",
    "- How to explore and visualize the input and target variables for the dataset.\n",
    "- How to use the new understanding to outline a suite of methods for framing the problem, preparing the data, and modeling the dataset.\n",
    "\n",
    "# Tutorial Overview\n",
    "1. Problem Description\n",
    "2. Load Dataset\n",
    "3. Chunk Data Structure\n",
    "4. Input Variables\n",
    "5. Target Variables\n",
    "6. A Wrinkle With Target Variables\n",
    "7. Thoughts on Modeling\n",
    "\n",
    "# Problem Description\n",
    "\n",
    "The EMC Data Science Global Hackathon dataset, or the ‘Air Quality Prediction‘ dataset for short, describes weather conditions at multiple sites and requires a prediction of air quality measurements over the subsequent three days.\n",
    "\n",
    "Specifically, weather observations such as temperature, pressure, wind speed, and wind direction are provided hourly for eight days for multiple sites. The objective is to predict air quality measurements for the next three days at multiple sites. The forecast lead times are not contiguous; instead, specific lead times must be forecast over the 72 hour forecast period; they are:\n",
    "```\n",
    "+1, +2, +3, +4, +5, +10, +17, +24, +48, +72\n",
    "```\n",
    "Further, the dataset is divided into disjoint but contiguous chunks of data, with eight days of data followed by three days that require a forecast.\n",
    "\n",
    "Not all observations are available at all sites or chunks and not all output variables are available at all sites and chunks. There are large portions of missing data that must be addressed.\n",
    "\n",
    "The dataset was used as the basis for a [short duration machine learning competition](https://www.kaggle.com/c/dsg-hackathon) (or hackathon) on the Kaggle website in 2012.\n",
    "\n",
    "Submissions for the competition were evaluated against the true observations that were withheld from participants and scored using Mean Absolute Error (MAE). Submissions required the value of -1,000,000 to be specified in those cases where a forecast was not possible due to missing data. In fact, a template of where to insert missing values was provided and required to be adopted for all submissions (what a pain).\n",
    "\n",
    "A winning entrant achieved a MAE of 0.21058 on the withheld test set ([private leaderboard](https://www.kaggle.com/c/dsg-hackathon/leaderboard)) using random forest on lagged observations. A writeup of this solution is available in the post:\n",
    "- [Chucking everything into a Random Forest: Ben Hamner on Winning The Air Quality Prediction Hackathon](http://blog.kaggle.com/2012/05/01/chucking-everything-into-a-random-forest-ben-hamner-on-winning-the-air-quality-prediction-hackathon/), 2012.\n",
    "\n",
    "In this tutorial, we will explore this dataset in order to better understand the nature of the forecast problem and suggest approaches for how it may be modeled."
   ]
  }
 ],
 "metadata": {
  "kernelspec": {
   "display_name": "Python [default]",
   "language": "python",
   "name": "python3"
  },
  "language_info": {
   "codemirror_mode": {
    "name": "ipython",
    "version": 3
   },
   "file_extension": ".py",
   "mimetype": "text/x-python",
   "name": "python",
   "nbconvert_exporter": "python",
   "pygments_lexer": "ipython3",
   "version": "3.6.6"
  }
 },
 "nbformat": 4,
 "nbformat_minor": 2
}
