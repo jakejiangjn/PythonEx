{
 "cells": [
  {
   "cell_type": "markdown",
   "metadata": {},
   "source": [
    "[Building A Deep Learning Model using Keras](https://towardsdatascience.com/building-a-deep-learning-model-using-keras-1548ca149d37?spm=a2c4e.11153940.blogcont653236.13.2e327250Zc65eZ)\n",
    "===\n",
    "Ref: [使用keras开启自己的机器学习旅程](https://yq.aliyun.com/articles/653236?spm=a2c4e.11153959.teamhomeleft.32.74e12ad0oAEUsM)"
   ]
  }
 ],
 "metadata": {
  "kernelspec": {
   "display_name": "Python [default]",
   "language": "python",
   "name": "python3"
  },
  "language_info": {
   "codemirror_mode": {
    "name": "ipython",
    "version": 3
   },
   "file_extension": ".py",
   "mimetype": "text/x-python",
   "name": "python",
   "nbconvert_exporter": "python",
   "pygments_lexer": "ipython3",
   "version": "3.6.6"
  }
 },
 "nbformat": 4,
 "nbformat_minor": 2
}
