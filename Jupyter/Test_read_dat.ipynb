{
 "cells": [
  {
   "cell_type": "code",
   "execution_count": 1,
   "metadata": {},
   "outputs": [],
   "source": [
    "%matplotlib inline\n",
    "import numpy as np\n",
    "import matplotlib.pyplot as plt"
   ]
  },
  {
   "cell_type": "code",
   "execution_count": 2,
   "metadata": {},
   "outputs": [],
   "source": [
    "def read_dat(filename='BinaryFile.dat', arr_num=16, sample=1000):\n",
    "    fd = open(filename,'rb')\n",
    "    raw = np.fromfile(file=fd, dtype=np.double)\n",
    "    N_raw = raw.size\n",
    "    N_batch = N_raw//sample\n",
    "    N_data = N_raw//arr_num\n",
    "    raw = raw.reshape((N_batch,sample), order='C')\n",
    "    data = np.zeros((arr_num,N_data), np.double)\n",
    "    for n in range(0,arr_num):\n",
    "        data[n,:] = raw[n::arr_num,:].flatten('C')\n",
    "    fd.close()\n",
    "    \n",
    "    return data"
   ]
  },
  {
   "cell_type": "code",
   "execution_count": 3,
   "metadata": {},
   "outputs": [],
   "source": [
    "file_dir = '\\\\\\\\Desktop-434\\\\h\\\\20190404'\n",
    "filename = '201904040959_17CH_fs50k_20msLFM0608kHz_Direction_Mono_youmubiao'\n",
    "sample = 1000\n",
    "arr_num = 17\n",
    "fs = 50e3"
   ]
  },
  {
   "cell_type": "code",
   "execution_count": 4,
   "metadata": {},
   "outputs": [],
   "source": [
    "fd = open(file_dir+'\\\\'+filename+'.dat','rb')\n",
    "raw = np.fromfile(file=fd,dtype=np.double)\n",
    "N_raw = raw.size\n",
    "N_batch = N_raw//sample\n",
    "N_data = N_raw//arr_num\n",
    "fd.close()\n",
    "raw = raw.reshape((N_batch,sample),order='C')\n",
    "data = np.zeros((arr_num,N_data),np.double)\n",
    "for n in range(0,arr_num):\n",
    "    data[n,:] = raw[n::arr_num,:].flatten('C')"
   ]
  },
  {
   "cell_type": "code",
   "execution_count": 5,
   "metadata": {},
   "outputs": [
    {
     "name": "stdout",
     "output_type": "stream",
     "text": [
      "8602000\n",
      "8602\n",
      "506000\n",
      "[[-4.69535589e-04 -1.06985569e-03 -2.25102901e-03 ... -1.18336678e-03\n",
      "  -3.53556871e-04 -3.25179100e-04]\n",
      " [-1.29660368e-03 -3.74120474e-04 -1.93297863e-05 ...  2.29489803e-04\n",
      "   6.06626272e-04  1.00076199e-04]\n",
      " [-4.97639179e-03 -3.49622369e-03 -1.30976439e-03 ...  2.23745704e-03\n",
      "   4.90784645e-04 -2.89371014e-03]\n",
      " ...\n",
      " [ 7.16984272e-05  1.89322233e-04  1.68073177e-04 ... -1.07945204e-03\n",
      "  -8.62985849e-04 -7.05605745e-04]\n",
      " [-1.98466182e-03 -1.98452473e-03 -2.16891170e-03 ... -2.86272764e-03\n",
      "  -2.91084647e-03 -3.16912532e-03]\n",
      " [-4.00839448e-03 -4.27215695e-03 -4.39608693e-03 ... -3.59616280e-03\n",
      "  -3.39724422e-03 -3.12649012e-03]]\n",
      "8602000\n",
      "(8602, 1000)\n",
      "(17, 506000)\n"
     ]
    }
   ],
   "source": [
    "print(N_raw)\n",
    "print(N_batch)\n",
    "print(N_data)\n",
    "print(raw[0:2001:1])\n",
    "print(raw.size)\n",
    "print(raw.shape)\n",
    "print(data.shape)"
   ]
  },
  {
   "cell_type": "code",
   "execution_count": 6,
   "metadata": {},
   "outputs": [
    {
     "data": {
      "text/plain": [
       "[<matplotlib.lines.Line2D at 0x1ed3424d9b0>]"
      ]
     },
     "execution_count": 6,
     "metadata": {},
     "output_type": "execute_result"
    },
    {
     "data": {
      "image/png": "[encoded data removed]",
      "text/plain": [
       "<Figure size 432x288 with 1 Axes>"
      ]
     },
     "metadata": {
      "needs_background": "light"
     },
     "output_type": "display_data"
    }
   ],
   "source": [
    "t_axis = np.arange(1,N_data+1,1)/fs\n",
    "plt.plot(t_axis, data[0,:])"
   ]
  },
  {
   "cell_type": "code",
   "execution_count": 9,
   "metadata": {},
   "outputs": [
    {
     "data": {
      "text/plain": [
       "[<matplotlib.lines.Line2D at 0x1ed34389588>]"
      ]
     },
     "execution_count": 9,
     "metadata": {},
     "output_type": "execute_result"
    },
    {
     "data": {
      "image/png": "[encoded data removed]",
      "text/plain": [
       "<Figure size 432x288 with 1 Axes>"
      ]
     },
     "metadata": {
      "needs_background": "light"
     },
     "output_type": "display_data"
    }
   ],
   "source": [
    "file_dir = '\\\\\\\\Desktop-434\\\\h\\\\20190404'\n",
    "filename = '201904040959_17CH_fs50k_20msLFM0608kHz_Direction_Mono_youmubiao'\n",
    "data_1 = read_dat(file_dir+'\\\\'+filename+'.dat', arr_num=17,sample=1000)\n",
    "\n",
    "t_axis = np.arange(1,data_1.shape[1]+1,1)/fs\n",
    "plt.plot(t_axis, data_1[0,:])"
   ]
  },
  {
   "cell_type": "code",
   "execution_count": null,
   "metadata": {},
   "outputs": [],
   "source": [
    "if __name__ == \"__main__\":\n",
    "    file_dir = '\\\\\\\\Desktop-434\\\\h\\\\20190404'\n",
    "    filename = '201904040959_17CH_fs50k_20msLFM0608kHz_Direction_Mono_youmubiao'\n",
    "    data = read_dat(file_dir+'\\\\'+filename+'.dat', arr_num=17,sample=1000)\n",
    "    t_axis = np.arange(1,data.shape[1]+1,1)/fs\n",
    "    plt.plot(t_axis, data_1[0,:])"
   ]
  }
 ],
 "metadata": {
  "kernelspec": {
   "display_name": "Python 3",
   "language": "python",
   "name": "python3"
  },
  "language_info": {
   "codemirror_mode": {
    "name": "ipython",
    "version": 3
   },
   "file_extension": ".py",
   "mimetype": "text/x-python",
   "name": "python",
   "nbconvert_exporter": "python",
   "pygments_lexer": "ipython3",
   "version": "3.6.8"
  }
 },
 "nbformat": 4,
 "nbformat_minor": 2
}
