{
 "cells": [
  {
   "cell_type": "code",
   "execution_count": 1,
   "metadata": {},
   "outputs": [],
   "source": [
    "# http://python.jobbole.com/87980/\n",
    "# https://zhuanlan.zhihu.com/p/27030549\n",
    "# https://zhuanlan.zhihu.com/p/27070868\n",
    "from datetime import datetime\n",
    "from urllib.parse import urlencode\n",
    "from multiprocessing import Pool\n",
    "import requests\n",
    "from bs4 import BeautifulSoup\n",
    "import pymongo\n",
    "import time\n",
    "from itertools import product"
   ]
  },
  {
   "cell_type": "code",
   "execution_count": 2,
   "metadata": {
    "collapsed": true
   },
   "outputs": [],
   "source": [
    "# Code based on Python 3.x\n",
    "# _*_ coding: utf-8 _*_\n",
    "# __Author: \"LEMON\"\n",
    "TOTAL_PAGE_NUMBER = 90  # PAGE_NUMBER: total number of pages，可进行修改\n",
    "\n",
    "KEYWORDS = ['大数据', 'python', '投资经理'] # 需爬取的关键字可以自己添加或修改\n",
    "\n",
    "# 爬取主要城市的记录\n",
    "ADDRESS = ['全国', '北京', '上海', '广州', '深圳',\n",
    "           '天津', '武汉', '西安', '成都', '大连',\n",
    "           '长春', '沈阳', '南京', '济南', '青岛',\n",
    "           '杭州', '苏州', '无锡', '宁波', '重庆',\n",
    "           '郑州', '长沙', '福州', '厦门', '哈尔滨',\n",
    "           '石家庄', '合肥', '惠州', '太原', '昆明',\n",
    "           '烟台', '佛山', '南昌', '贵阳', '南宁']\n",
    "\n",
    "MONGO_URI = 'localhost'\n",
    "MONGO_DB = 'zhilian'"
   ]
  },
  {
   "cell_type": "code",
   "execution_count": 3,
   "metadata": {
    "collapsed": true
   },
   "outputs": [],
   "source": [
    "# Code based on Python 3.x\n",
    "# _*_ coding: utf-8 _*_\n",
    "# __Author: \"LEMON\"\n",
    "client = pymongo.MongoClient(MONGO_URI)\n",
    "db = client[MONGO_DB]"
   ]
  },
  {
   "cell_type": "code",
   "execution_count": null,
   "metadata": {
    "collapsed": true
   },
   "outputs": [],
   "source": [
    "def download(url):\n",
    "    headers = {'User-Agent': 'Mozilla/5.0 (Windows NT 6.1; WOW64; rv:51.0) Gecko/20100101 Firefox/51.0'}\n",
    "    response = requests.get(url, headers=headers)\n",
    "    return response.text\n",
    "\n",
    "def get_content(html):\n",
    "    # 记录保存日期\n",
    "    date = datetime.now().date()\n",
    "    date = datetime.strftime(date, '%Y-%m-%d')  # 转变成str\n",
    "\n",
    "    soup = BeautifulSoup(html, 'lxml')\n",
    "    body = soup.body\n",
    "    data_main = body.find('div', {'class': 'newlist_list_content'})\n",
    "\n",
    "    if data_main:\n",
    "        tables = data_main.find_all('table')\n",
    "\n",
    "        for i, table_info in enumerate(tables):\n",
    "            if i == 0:\n",
    "                continue\n",
    "            tds = table_info.find('tr').find_all('td')\n",
    "            zwmc = tds[0].find('a').get_text()  # 职位名称\n",
    "            zw_link = tds[0].find('a').get('href')  # 职位链接\n",
    "            fkl = tds[1].find('span').get_text()  # 反馈率\n",
    "            gsmc = tds[2].find('a').get_text()  # 公司名称\n",
    "            zwyx = tds[3].get_text()  # 职位月薪\n",
    "            gzdd = tds[4].get_text()  # 工作地点\n",
    "            gbsj = tds[5].find('span').get_text()  # 发布日期\n",
    "\n",
    "            tr_brief = table_info.find('tr', {'class': 'newlist_tr_detail'})\n",
    "            # 招聘简介\n",
    "            brief = tr_brief.find('li', {'class': 'newlist_deatil_last'}).get_text()\n",
    "\n",
    "            # 用生成器获取信息\n",
    "            yield {'zwmc': zwmc,  # 职位名称\n",
    "                   'fkl': fkl,  # 反馈率\n",
    "                   'gsmc': gsmc,  # 公司名称\n",
    "                   'zwyx': zwyx,  # 职位月薪\n",
    "                   'gzdd': gzdd,  # 工作地点\n",
    "                   'gbsj': gbsj,  # 公布时间\n",
    "                   'brief': brief,  # 招聘简介\n",
    "                   'zw_link': zw_link,  # 网页链接\n",
    "                   'save_date': date  # 记录信息保存的日期\n",
    "                   }\n",
    "\n",
    "def main(args):\n",
    "    basic_url = '招聘（求职）尽在智联招聘?'\n",
    "\n",
    "    for keyword in KEYWORDS:\n",
    "        mongo_table = db[keyword]\n",
    "        paras = {'jl': args[0],\n",
    "                 'kw': keyword,\n",
    "                 'p': args[1]  # 第X页\n",
    "                 }\n",
    "        url = basic_url + urlencode(paras)\n",
    "        # print(url)\n",
    "        html = download(url)\n",
    "        # print(html)\n",
    "        if html:\n",
    "            data = get_content(html)\n",
    "            for item in data:\n",
    "                if mongo_table.update({'zw_link': item['zw_link']}, {'$set': item}, True):\n",
    "                    print('已保存记录：', item)\n",
    "\n",
    "if __name__ == '__main__':\n",
    "    start = time.time()\n",
    "    number_list = list(range(TOTAL_PAGE_NUMBER))\n",
    "    args = product(ADDRESS, number_list)\n",
    "    pool = Pool()\n",
    "    pool.map(main, args) # 多进程运行\n",
    "    end = time.time()\n",
    "    print('Finished, task runs %s seconds.' % (end - start))"
   ]
  },
  {
   "cell_type": "code",
   "execution_count": null,
   "metadata": {
    "collapsed": true
   },
   "outputs": [],
   "source": [
    "import pymongo\n",
    "import pandas as pd\n",
    "import matplotlib.pyplot as plt\n",
    "import numpy as np\n",
    "% matplotlib inline\n",
    " \n",
    "plt.style.use('ggplot')"
   ]
  },
  {
   "cell_type": "code",
   "execution_count": null,
   "metadata": {
    "collapsed": true
   },
   "outputs": [],
   "source": [
    "# 解决matplotlib显示中文问题\n",
    "plt.rcParams['font.sans-serif'] = ['SimHei']  # 指定默认字体\n",
    "plt.rcParams['axes.unicode_minus'] = False  # 解决保存图像是负号'-'显示为方块的问"
   ]
  }
 ],
 "metadata": {
  "kernelspec": {
   "display_name": "Python 3",
   "language": "python",
   "name": "python3"
  },
  "language_info": {
   "codemirror_mode": {
    "name": "ipython",
    "version": 3
   },
   "file_extension": ".py",
   "mimetype": "text/x-python",
   "name": "python",
   "nbconvert_exporter": "python",
   "pygments_lexer": "ipython3",
   "version": "3.6.4"
  }
 },
 "nbformat": 4,
 "nbformat_minor": 2
}
