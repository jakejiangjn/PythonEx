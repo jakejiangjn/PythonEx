{
 "cells": [
  {
   "cell_type": "markdown",
   "metadata": {},
   "source": [
    "# Having an Imbalanced Dataset? Here Is How You Can Fix It.\n",
    "> Different Ways to Handle Imbalanced Datasets.\n",
    "\n",
    "**Ref:**\n",
    "+ [Medium article](https://towardsdatascience.com/having-an-imbalanced-dataset-here-is-how-you-can-solve-it-1640568947eb)\n",
    "+ [GitHub ipynb](https://github.com/wmlba/innovate2019/blob/master/Credit_Card_Fraud_Detection.ipynb)\n",
    " \n"
   ]
  }
 ],
 "metadata": {
  "kernelspec": {
   "display_name": "Python 3",
   "language": "python",
   "name": "python3"
  },
  "language_info": {
   "codemirror_mode": {
    "name": "ipython",
    "version": 3
   },
   "file_extension": ".py",
   "mimetype": "text/x-python",
   "name": "python",
   "nbconvert_exporter": "python",
   "pygments_lexer": "ipython3",
   "version": "3.6.8"
  }
 },
 "nbformat": 4,
 "nbformat_minor": 2
}
